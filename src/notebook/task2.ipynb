{
 "cells": [
  {
   "cell_type": "code",
   "execution_count": 16,
   "metadata": {},
   "outputs": [],
   "source": [
    "import pandas as pd\n",
    "import numpy as np\n",
    "from sklearn.model_selection import train_test_split\n",
    "from sklearn.linear_model import LogisticRegression\n",
    "from sklearn.tree import DecisionTreeClassifier\n",
    "from sklearn.ensemble import RandomForestClassifier, GradientBoostingClassifier\n",
    "from sklearn.neural_network import MLPClassifier\n",
    "from sklearn.metrics import classification_report, accuracy_score\n",
    "\n",
    "import tensorflow as tf\n",
    "from tensorflow.keras.models import Sequential\n",
    "from tensorflow.keras.layers import Dense, Conv1D, Flatten, LSTM, SimpleRNN"
   ]
  },
  {
   "cell_type": "code",
   "execution_count": 12,
   "metadata": {},
   "outputs": [],
   "source": [
    "\n",
    "# import the data\n",
    "fraud_data = pd.read_csv('../../data/fraud_data_preprocessed.csv')\n",
    "creditcard_data = pd.read_csv('../../data/creditcard.csv')\n",
    "\n",
    "# convert signup_time and purchase_time to datetime\n",
    "fraud_data['signup_time'] = pd.to_datetime(fraud_data['signup_time']).astype(np.int64)\n",
    "fraud_data['purchase_time'] = pd.to_datetime(fraud_data['purchase_time']).astype(np.int64)\n",
    "fraud_data.drop(columns=['user_id'], inplace=True)\n",
    "fraud_data.drop(columns=['device_id'], inplace=True)\n",
    "\n",
    "X_fraud = fraud_data.drop(columns=['class'])\n",
    "y_fraud = fraud_data['class']\n",
    "\n",
    "X_creditcard = creditcard_data.drop(columns=['Class'])  # Features from the credit card dataset\n",
    "y_creditcard = creditcard_data['Class']    \n",
    "\n",
    "\n",
    "X_fraud_train, X_fraud_test, y_fraud_train, y_fraud_test = train_test_split(X_fraud, y_fraud, test_size=0.3, random_state=42)\n",
    "X_creditcard_train, X_creditcard_test, y_creditcard_train, y_creditcard_test = train_test_split(X_creditcard, y_creditcard, test_size=0.3, random_state=42)"
   ]
  },
  {
   "cell_type": "markdown",
   "metadata": {},
   "source": [
    "### Train the models"
   ]
  },
  {
   "cell_type": "code",
   "execution_count": 13,
   "metadata": {},
   "outputs": [],
   "source": [
    "# Define models\n",
    "models = {\n",
    "    'Logistic Regression': LogisticRegression(max_iter=1000),\n",
    "    'Decision Tree': DecisionTreeClassifier(),\n",
    "    'Random Forest': RandomForestClassifier(),\n",
    "    'Gradient Boosting': GradientBoostingClassifier(),\n",
    "    'MLP': MLPClassifier(max_iter=1000)\n",
    "}"
   ]
  },
  {
   "cell_type": "markdown",
   "metadata": {},
   "source": [
    "### Train and evaluate the models on the fraud dataset"
   ]
  },
  {
   "cell_type": "code",
   "execution_count": 14,
   "metadata": {},
   "outputs": [
    {
     "name": "stdout",
     "output_type": "stream",
     "text": [
      "Training Logistic Regression model on fraud data...\n",
      "Logistic Regression model performance on fraud data:\n",
      "              precision    recall  f1-score   support\n",
      "\n",
      "           0       0.91      1.00      0.95     41117\n",
      "           1       0.00      0.00      0.00      4217\n",
      "\n",
      "    accuracy                           0.91     45334\n",
      "   macro avg       0.45      0.50      0.48     45334\n",
      "weighted avg       0.82      0.91      0.86     45334\n",
      "\n",
      "\n",
      "\n",
      "Training Decision Tree model on fraud data...\n"
     ]
    },
    {
     "name": "stderr",
     "output_type": "stream",
     "text": [
      "/Users/junior/Documents/Tenx/fraud_detection/.venv/lib/python3.12/site-packages/sklearn/metrics/_classification.py:1531: UndefinedMetricWarning: Precision is ill-defined and being set to 0.0 in labels with no predicted samples. Use `zero_division` parameter to control this behavior.\n",
      "  _warn_prf(average, modifier, f\"{metric.capitalize()} is\", len(result))\n",
      "/Users/junior/Documents/Tenx/fraud_detection/.venv/lib/python3.12/site-packages/sklearn/metrics/_classification.py:1531: UndefinedMetricWarning: Precision is ill-defined and being set to 0.0 in labels with no predicted samples. Use `zero_division` parameter to control this behavior.\n",
      "  _warn_prf(average, modifier, f\"{metric.capitalize()} is\", len(result))\n",
      "/Users/junior/Documents/Tenx/fraud_detection/.venv/lib/python3.12/site-packages/sklearn/metrics/_classification.py:1531: UndefinedMetricWarning: Precision is ill-defined and being set to 0.0 in labels with no predicted samples. Use `zero_division` parameter to control this behavior.\n",
      "  _warn_prf(average, modifier, f\"{metric.capitalize()} is\", len(result))\n"
     ]
    },
    {
     "name": "stdout",
     "output_type": "stream",
     "text": [
      "Decision Tree model performance on fraud data:\n",
      "              precision    recall  f1-score   support\n",
      "\n",
      "           0       0.96      0.94      0.95     41117\n",
      "           1       0.49      0.57      0.53      4217\n",
      "\n",
      "    accuracy                           0.90     45334\n",
      "   macro avg       0.72      0.75      0.74     45334\n",
      "weighted avg       0.91      0.90      0.91     45334\n",
      "\n",
      "\n",
      "\n",
      "Training Random Forest model on fraud data...\n",
      "Random Forest model performance on fraud data:\n",
      "              precision    recall  f1-score   support\n",
      "\n",
      "           0       0.96      1.00      0.98     41117\n",
      "           1       1.00      0.54      0.70      4217\n",
      "\n",
      "    accuracy                           0.96     45334\n",
      "   macro avg       0.98      0.77      0.84     45334\n",
      "weighted avg       0.96      0.96      0.95     45334\n",
      "\n",
      "\n",
      "\n",
      "Training Gradient Boosting model on fraud data...\n",
      "Gradient Boosting model performance on fraud data:\n",
      "              precision    recall  f1-score   support\n",
      "\n",
      "           0       0.96      1.00      0.98     41117\n",
      "           1       1.00      0.54      0.70      4217\n",
      "\n",
      "    accuracy                           0.96     45334\n",
      "   macro avg       0.98      0.77      0.84     45334\n",
      "weighted avg       0.96      0.96      0.95     45334\n",
      "\n",
      "\n",
      "\n",
      "Training MLP model on fraud data...\n",
      "MLP model performance on fraud data:\n",
      "              precision    recall  f1-score   support\n",
      "\n",
      "           0       0.91      1.00      0.95     41117\n",
      "           1       0.00      0.00      0.00      4217\n",
      "\n",
      "    accuracy                           0.91     45334\n",
      "   macro avg       0.45      0.50      0.48     45334\n",
      "weighted avg       0.82      0.91      0.86     45334\n",
      "\n",
      "\n",
      "\n"
     ]
    },
    {
     "name": "stderr",
     "output_type": "stream",
     "text": [
      "/Users/junior/Documents/Tenx/fraud_detection/.venv/lib/python3.12/site-packages/sklearn/metrics/_classification.py:1531: UndefinedMetricWarning: Precision is ill-defined and being set to 0.0 in labels with no predicted samples. Use `zero_division` parameter to control this behavior.\n",
      "  _warn_prf(average, modifier, f\"{metric.capitalize()} is\", len(result))\n",
      "/Users/junior/Documents/Tenx/fraud_detection/.venv/lib/python3.12/site-packages/sklearn/metrics/_classification.py:1531: UndefinedMetricWarning: Precision is ill-defined and being set to 0.0 in labels with no predicted samples. Use `zero_division` parameter to control this behavior.\n",
      "  _warn_prf(average, modifier, f\"{metric.capitalize()} is\", len(result))\n",
      "/Users/junior/Documents/Tenx/fraud_detection/.venv/lib/python3.12/site-packages/sklearn/metrics/_classification.py:1531: UndefinedMetricWarning: Precision is ill-defined and being set to 0.0 in labels with no predicted samples. Use `zero_division` parameter to control this behavior.\n",
      "  _warn_prf(average, modifier, f\"{metric.capitalize()} is\", len(result))\n"
     ]
    }
   ],
   "source": [
    "# Train models on fraud_data\n",
    "for name, model in models.items():\n",
    "    print(f\"Training {name} model on fraud data...\")\n",
    "    model.fit(X_fraud_train, y_fraud_train)\n",
    "    y_pred_fraud = model.predict(X_fraud_test)\n",
    "    print(f\"{name} model performance on fraud data:\")\n",
    "    print(classification_report(y_fraud_test, y_pred_fraud))\n",
    "    print(\"\\n\")"
   ]
  },
  {
   "cell_type": "markdown",
   "metadata": {},
   "source": [
    "### Train models on creditcard_data\n"
   ]
  },
  {
   "cell_type": "code",
   "execution_count": 15,
   "metadata": {},
   "outputs": [
    {
     "name": "stdout",
     "output_type": "stream",
     "text": [
      "Training Logistic Regression model on credit card data...\n"
     ]
    },
    {
     "name": "stderr",
     "output_type": "stream",
     "text": [
      "/Users/junior/Documents/Tenx/fraud_detection/.venv/lib/python3.12/site-packages/sklearn/linear_model/_logistic.py:469: ConvergenceWarning: lbfgs failed to converge (status=1):\n",
      "STOP: TOTAL NO. of ITERATIONS REACHED LIMIT.\n",
      "\n",
      "Increase the number of iterations (max_iter) or scale the data as shown in:\n",
      "    https://scikit-learn.org/stable/modules/preprocessing.html\n",
      "Please also refer to the documentation for alternative solver options:\n",
      "    https://scikit-learn.org/stable/modules/linear_model.html#logistic-regression\n",
      "  n_iter_i = _check_optimize_result(\n"
     ]
    },
    {
     "name": "stdout",
     "output_type": "stream",
     "text": [
      "Logistic Regression model performance on credit card data:\n",
      "              precision    recall  f1-score   support\n",
      "\n",
      "           0       1.00      1.00      1.00     85307\n",
      "           1       0.80      0.62      0.70       136\n",
      "\n",
      "    accuracy                           1.00     85443\n",
      "   macro avg       0.90      0.81      0.85     85443\n",
      "weighted avg       1.00      1.00      1.00     85443\n",
      "\n",
      "\n",
      "\n",
      "Training Decision Tree model on credit card data...\n",
      "Decision Tree model performance on credit card data:\n",
      "              precision    recall  f1-score   support\n",
      "\n",
      "           0       1.00      1.00      1.00     85307\n",
      "           1       0.72      0.79      0.76       136\n",
      "\n",
      "    accuracy                           1.00     85443\n",
      "   macro avg       0.86      0.90      0.88     85443\n",
      "weighted avg       1.00      1.00      1.00     85443\n",
      "\n",
      "\n",
      "\n",
      "Training Random Forest model on credit card data...\n",
      "Random Forest model performance on credit card data:\n",
      "              precision    recall  f1-score   support\n",
      "\n",
      "           0       1.00      1.00      1.00     85307\n",
      "           1       0.93      0.81      0.87       136\n",
      "\n",
      "    accuracy                           1.00     85443\n",
      "   macro avg       0.97      0.90      0.93     85443\n",
      "weighted avg       1.00      1.00      1.00     85443\n",
      "\n",
      "\n",
      "\n",
      "Training Gradient Boosting model on credit card data...\n",
      "Gradient Boosting model performance on credit card data:\n",
      "              precision    recall  f1-score   support\n",
      "\n",
      "           0       1.00      1.00      1.00     85307\n",
      "           1       0.89      0.12      0.22       136\n",
      "\n",
      "    accuracy                           1.00     85443\n",
      "   macro avg       0.95      0.56      0.61     85443\n",
      "weighted avg       1.00      1.00      1.00     85443\n",
      "\n",
      "\n",
      "\n",
      "Training MLP model on credit card data...\n",
      "MLP model performance on credit card data:\n",
      "              precision    recall  f1-score   support\n",
      "\n",
      "           0       1.00      1.00      1.00     85307\n",
      "           1       0.56      0.04      0.07       136\n",
      "\n",
      "    accuracy                           1.00     85443\n",
      "   macro avg       0.78      0.52      0.53     85443\n",
      "weighted avg       1.00      1.00      1.00     85443\n",
      "\n",
      "\n",
      "\n"
     ]
    }
   ],
   "source": [
    "for name, model in models.items():\n",
    "    print(f\"Training {name} model on credit card data...\")\n",
    "    model.fit(X_creditcard_train, y_creditcard_train)\n",
    "    y_pred_creditcard = model.predict(X_creditcard_test)\n",
    "    print(f\"{name} model performance on credit card data:\")\n",
    "    print(classification_report(y_creditcard_test, y_pred_creditcard))\n",
    "    print(\"\\n\")"
   ]
  },
  {
   "cell_type": "markdown",
   "metadata": {},
   "source": [
    "### Neural Network Models"
   ]
  },
  {
   "cell_type": "code",
   "execution_count": 17,
   "metadata": {},
   "outputs": [
    {
     "name": "stdout",
     "output_type": "stream",
     "text": [
      "Epoch 1/10\n"
     ]
    },
    {
     "name": "stderr",
     "output_type": "stream",
     "text": [
      "/Users/junior/Documents/Tenx/fraud_detection/.venv/lib/python3.12/site-packages/keras/src/layers/convolutional/base_conv.py:107: UserWarning: Do not pass an `input_shape`/`input_dim` argument to a layer. When using Sequential models, prefer using an `Input(shape)` object as the first layer in the model instead.\n",
      "  super().__init__(activity_regularizer=activity_regularizer, **kwargs)\n"
     ]
    },
    {
     "name": "stdout",
     "output_type": "stream",
     "text": [
      "\u001b[1m3306/3306\u001b[0m \u001b[32m━━━━━━━━━━━━━━━━━━━━\u001b[0m\u001b[37m\u001b[0m \u001b[1m3s\u001b[0m 656us/step - accuracy: 0.8279 - loss: 1120532674117632.0000\n",
      "Epoch 2/10\n",
      "\u001b[1m3306/3306\u001b[0m \u001b[32m━━━━━━━━━━━━━━━━━━━━\u001b[0m\u001b[37m\u001b[0m \u001b[1m2s\u001b[0m 656us/step - accuracy: 0.8303 - loss: 134986778804224.0000\n",
      "Epoch 3/10\n",
      "\u001b[1m3306/3306\u001b[0m \u001b[32m━━━━━━━━━━━━━━━━━━━━\u001b[0m\u001b[37m\u001b[0m \u001b[1m2s\u001b[0m 688us/step - accuracy: 0.8298 - loss: 41827210100736.0000\n",
      "Epoch 4/10\n",
      "\u001b[1m3306/3306\u001b[0m \u001b[32m━━━━━━━━━━━━━━━━━━━━\u001b[0m\u001b[37m\u001b[0m \u001b[1m2s\u001b[0m 656us/step - accuracy: 0.8317 - loss: 7318518890496.0000\n",
      "Epoch 5/10\n",
      "\u001b[1m3306/3306\u001b[0m \u001b[32m━━━━━━━━━━━━━━━━━━━━\u001b[0m\u001b[37m\u001b[0m \u001b[1m2s\u001b[0m 617us/step - accuracy: 0.9066 - loss: 0.4255\n",
      "Epoch 6/10\n",
      "\u001b[1m3306/3306\u001b[0m \u001b[32m━━━━━━━━━━━━━━━━━━━━\u001b[0m\u001b[37m\u001b[0m \u001b[1m2s\u001b[0m 615us/step - accuracy: 0.9057 - loss: 0.3132\n",
      "Epoch 7/10\n",
      "\u001b[1m3306/3306\u001b[0m \u001b[32m━━━━━━━━━━━━━━━━━━━━\u001b[0m\u001b[37m\u001b[0m \u001b[1m2s\u001b[0m 618us/step - accuracy: 0.9053 - loss: 0.3133\n",
      "Epoch 8/10\n",
      "\u001b[1m3306/3306\u001b[0m \u001b[32m━━━━━━━━━━━━━━━━━━━━\u001b[0m\u001b[37m\u001b[0m \u001b[1m2s\u001b[0m 619us/step - accuracy: 0.9059 - loss: 0.3120\n",
      "Epoch 9/10\n",
      "\u001b[1m3306/3306\u001b[0m \u001b[32m━━━━━━━━━━━━━━━━━━━━\u001b[0m\u001b[37m\u001b[0m \u001b[1m2s\u001b[0m 625us/step - accuracy: 0.9056 - loss: 0.3126\n",
      "Epoch 10/10\n",
      "\u001b[1m3306/3306\u001b[0m \u001b[32m━━━━━━━━━━━━━━━━━━━━\u001b[0m\u001b[37m\u001b[0m \u001b[1m2s\u001b[0m 604us/step - accuracy: 0.9055 - loss: 0.3128\n",
      "\u001b[1m1417/1417\u001b[0m \u001b[32m━━━━━━━━━━━━━━━━━━━━\u001b[0m\u001b[37m\u001b[0m \u001b[1m0s\u001b[0m 317us/step\n",
      "CNN model performance on fraud data:\n",
      "              precision    recall  f1-score   support\n",
      "\n",
      "           0       0.91      1.00      0.95     41117\n",
      "           1       0.00      0.00      0.00      4217\n",
      "\n",
      "    accuracy                           0.91     45334\n",
      "   macro avg       0.45      0.50      0.48     45334\n",
      "weighted avg       0.82      0.91      0.86     45334\n",
      "\n"
     ]
    },
    {
     "name": "stderr",
     "output_type": "stream",
     "text": [
      "/Users/junior/Documents/Tenx/fraud_detection/.venv/lib/python3.12/site-packages/sklearn/metrics/_classification.py:1531: UndefinedMetricWarning: Precision is ill-defined and being set to 0.0 in labels with no predicted samples. Use `zero_division` parameter to control this behavior.\n",
      "  _warn_prf(average, modifier, f\"{metric.capitalize()} is\", len(result))\n",
      "/Users/junior/Documents/Tenx/fraud_detection/.venv/lib/python3.12/site-packages/sklearn/metrics/_classification.py:1531: UndefinedMetricWarning: Precision is ill-defined and being set to 0.0 in labels with no predicted samples. Use `zero_division` parameter to control this behavior.\n",
      "  _warn_prf(average, modifier, f\"{metric.capitalize()} is\", len(result))\n",
      "/Users/junior/Documents/Tenx/fraud_detection/.venv/lib/python3.12/site-packages/sklearn/metrics/_classification.py:1531: UndefinedMetricWarning: Precision is ill-defined and being set to 0.0 in labels with no predicted samples. Use `zero_division` parameter to control this behavior.\n",
      "  _warn_prf(average, modifier, f\"{metric.capitalize()} is\", len(result))\n"
     ]
    }
   ],
   "source": [
    "\n",
    "\n",
    "X_fraud_train_reshaped = X_fraud_train.values.reshape(X_fraud_train.shape[0], X_fraud_train.shape[1], 1)\n",
    "X_fraud_test_reshaped = X_fraud_test.values.reshape(X_fraud_test.shape[0], X_fraud_test.shape[1], 1)\n",
    "\n",
    "cnn_model = Sequential([\n",
    "    Conv1D(64, kernel_size=3, activation='relu', input_shape=(X_fraud_train.shape[1], 1)),\n",
    "    Flatten(),\n",
    "    Dense(64, activation='relu'),\n",
    "    Dense(1, activation='sigmoid')\n",
    "])\n",
    "\n",
    "\n",
    "cnn_model.compile(optimizer='adam', loss='binary_crossentropy', metrics=['accuracy'])\n",
    "cnn_model.fit(X_fraud_train_reshaped, y_fraud_train, epochs=10, batch_size=32)\n",
    "\n",
    "\n",
    "y_pred_cnn = (cnn_model.predict(X_fraud_test_reshaped) > 0.5).astype(\"int32\")\n",
    "print(\"CNN model performance on fraud data:\")\n",
    "print(classification_report(y_fraud_test, y_pred_cnn))"
   ]
  },
  {
   "cell_type": "code",
   "execution_count": 18,
   "metadata": {},
   "outputs": [
    {
     "name": "stdout",
     "output_type": "stream",
     "text": [
      "Epoch 1/10\n"
     ]
    },
    {
     "name": "stderr",
     "output_type": "stream",
     "text": [
      "/Users/junior/Documents/Tenx/fraud_detection/.venv/lib/python3.12/site-packages/keras/src/layers/rnn/rnn.py:204: UserWarning: Do not pass an `input_shape`/`input_dim` argument to a layer. When using Sequential models, prefer using an `Input(shape)` object as the first layer in the model instead.\n",
      "  super().__init__(**kwargs)\n"
     ]
    },
    {
     "name": "stdout",
     "output_type": "stream",
     "text": [
      "\u001b[1m3306/3306\u001b[0m \u001b[32m━━━━━━━━━━━━━━━━━━━━\u001b[0m\u001b[37m\u001b[0m \u001b[1m4s\u001b[0m 1ms/step - accuracy: 0.8245 - loss: 25806841577472.0000\n",
      "Epoch 2/10\n",
      "\u001b[1m3306/3306\u001b[0m \u001b[32m━━━━━━━━━━━━━━━━━━━━\u001b[0m\u001b[37m\u001b[0m \u001b[1m4s\u001b[0m 1ms/step - accuracy: 0.8276 - loss: 36653981696.0000\n",
      "Epoch 3/10\n",
      "\u001b[1m3306/3306\u001b[0m \u001b[32m━━━━━━━━━━━━━━━━━━━━\u001b[0m\u001b[37m\u001b[0m \u001b[1m4s\u001b[0m 1ms/step - accuracy: 0.8320 - loss: 8205772288.0000\n",
      "Epoch 4/10\n",
      "\u001b[1m3306/3306\u001b[0m \u001b[32m━━━━━━━━━━━━━━━━━━━━\u001b[0m\u001b[37m\u001b[0m \u001b[1m4s\u001b[0m 1ms/step - accuracy: 0.8292 - loss: 11143819264.0000\n",
      "Epoch 5/10\n",
      "\u001b[1m3306/3306\u001b[0m \u001b[32m━━━━━━━━━━━━━━━━━━━━\u001b[0m\u001b[37m\u001b[0m \u001b[1m4s\u001b[0m 1ms/step - accuracy: 0.8319 - loss: 533367680.0000\n",
      "Epoch 6/10\n",
      "\u001b[1m3306/3306\u001b[0m \u001b[32m━━━━━━━━━━━━━━━━━━━━\u001b[0m\u001b[37m\u001b[0m \u001b[1m4s\u001b[0m 1ms/step - accuracy: 0.8302 - loss: 54920096.0000\n",
      "Epoch 7/10\n",
      "\u001b[1m3306/3306\u001b[0m \u001b[32m━━━━━━━━━━━━━━━━━━━━\u001b[0m\u001b[37m\u001b[0m \u001b[1m3s\u001b[0m 1ms/step - accuracy: 0.8313 - loss: 11201542.0000\n",
      "Epoch 8/10\n",
      "\u001b[1m3306/3306\u001b[0m \u001b[32m━━━━━━━━━━━━━━━━━━━━\u001b[0m\u001b[37m\u001b[0m \u001b[1m4s\u001b[0m 1ms/step - accuracy: 0.8573 - loss: 190273.7812\n",
      "Epoch 9/10\n",
      "\u001b[1m3306/3306\u001b[0m \u001b[32m━━━━━━━━━━━━━━━━━━━━\u001b[0m\u001b[37m\u001b[0m \u001b[1m3s\u001b[0m 1ms/step - accuracy: 0.9058 - loss: 0.3123\n",
      "Epoch 10/10\n",
      "\u001b[1m3306/3306\u001b[0m \u001b[32m━━━━━━━━━━━━━━━━━━━━\u001b[0m\u001b[37m\u001b[0m \u001b[1m4s\u001b[0m 1ms/step - accuracy: 0.9074 - loss: 0.3086\n",
      "Epoch 1/10\n",
      "\u001b[1m3306/3306\u001b[0m \u001b[32m━━━━━━━━━━━━━━━━━━━━\u001b[0m\u001b[37m\u001b[0m \u001b[1m8s\u001b[0m 2ms/step - accuracy: 0.8160 - loss: 701771886362624.0000\n",
      "Epoch 2/10\n",
      "\u001b[1m3306/3306\u001b[0m \u001b[32m━━━━━━━━━━━━━━━━━━━━\u001b[0m\u001b[37m\u001b[0m \u001b[1m8s\u001b[0m 2ms/step - accuracy: 0.8639 - loss: 26873933824.0000\n",
      "Epoch 3/10\n",
      "\u001b[1m3306/3306\u001b[0m \u001b[32m━━━━━━━━━━━━━━━━━━━━\u001b[0m\u001b[37m\u001b[0m \u001b[1m7s\u001b[0m 2ms/step - accuracy: 0.8510 - loss: 980214218752.0000\n",
      "Epoch 4/10\n",
      "\u001b[1m3306/3306\u001b[0m \u001b[32m━━━━━━━━━━━━━━━━━━━━\u001b[0m\u001b[37m\u001b[0m \u001b[1m8s\u001b[0m 2ms/step - accuracy: 0.8320 - loss: 726697639936.0000\n",
      "Epoch 5/10\n",
      "\u001b[1m3306/3306\u001b[0m \u001b[32m━━━━━━━━━━━━━━━━━━━━\u001b[0m\u001b[37m\u001b[0m \u001b[1m8s\u001b[0m 2ms/step - accuracy: 0.8307 - loss: 2048668800.0000\n",
      "Epoch 6/10\n",
      "\u001b[1m3306/3306\u001b[0m \u001b[32m━━━━━━━━━━━━━━━━━━━━\u001b[0m\u001b[37m\u001b[0m \u001b[1m8s\u001b[0m 2ms/step - accuracy: 0.8284 - loss: 63928296.0000\n",
      "Epoch 7/10\n",
      "\u001b[1m3306/3306\u001b[0m \u001b[32m━━━━━━━━━━━━━━━━━━━━\u001b[0m\u001b[37m\u001b[0m \u001b[1m8s\u001b[0m 2ms/step - accuracy: 0.8233 - loss: 299347017728.0000\n",
      "Epoch 8/10\n",
      "\u001b[1m3306/3306\u001b[0m \u001b[32m━━━━━━━━━━━━━━━━━━━━\u001b[0m\u001b[37m\u001b[0m \u001b[1m7s\u001b[0m 2ms/step - accuracy: 0.8302 - loss: 466030755840.0000\n",
      "Epoch 9/10\n",
      "\u001b[1m3306/3306\u001b[0m \u001b[32m━━━━━━━━━━━━━━━━━━━━\u001b[0m\u001b[37m\u001b[0m \u001b[1m7s\u001b[0m 2ms/step - accuracy: 0.8345 - loss: 384660448.0000\n",
      "Epoch 10/10\n",
      "\u001b[1m3306/3306\u001b[0m \u001b[32m━━━━━━━━━━━━━━━━━━━━\u001b[0m\u001b[37m\u001b[0m \u001b[1m7s\u001b[0m 2ms/step - accuracy: 0.8018 - loss: 10330478.0000\n"
     ]
    },
    {
     "data": {
      "text/plain": [
       "<keras.src.callbacks.history.History at 0x31671f260>"
      ]
     },
     "execution_count": 18,
     "metadata": {},
     "output_type": "execute_result"
    }
   ],
   "source": [
    "# RNN and LSTM\n",
    "\n",
    "rnn_model = Sequential([\n",
    "    SimpleRNN(64, input_shape=(X_fraud_train.shape[1], 1), activation='relu'),\n",
    "    Dense(64, activation='relu'),\n",
    "    Dense(1, activation='sigmoid')\n",
    "])\n",
    "\n",
    "rnn_model.compile(optimizer='adam', loss='binary_crossentropy', metrics=['accuracy'])\n",
    "rnn_model.fit(X_fraud_train_reshaped, y_fraud_train, epochs=10, batch_size=32)\n",
    "\n",
    "# LSTM Model\n",
    "lstm_model = Sequential([\n",
    "    LSTM(64, input_shape=(X_fraud_train.shape[1], 1), activation='relu'),\n",
    "    Dense(64, activation='relu'),\n",
    "    Dense(1, activation='sigmoid')\n",
    "])\n",
    "\n",
    "lstm_model.compile(optimizer='adam', loss='binary_crossentropy', metrics=['accuracy'])\n",
    "lstm_model.fit(X_fraud_train_reshaped, y_fraud_train, epochs=10, batch_size=32)\n"
   ]
<<<<<<< HEAD
=======
  },
  {
   "cell_type": "markdown",
   "metadata": {},
   "source": [
    "### MLOps"
   ]
  },
  {
   "cell_type": "code",
   "execution_count": 30,
   "metadata": {},
   "outputs": [
    {
     "name": "stderr",
     "output_type": "stream",
     "text": [
      "2024/10/26 22:07:03 WARNING mlflow.models.model: Model logged without a signature and input example. Please set `input_example` parameter when logging the model to auto infer the model signature.\n",
      "2024/10/26 22:07:04 INFO mlflow.tracking._tracking_service.client: 🏃 View run spiffy-ox-827 at: http://127.0.0.1:5000/#/experiments/1/runs/3ed703498677445695afbe97d6c8cac7.\n",
      "2024/10/26 22:07:04 INFO mlflow.tracking._tracking_service.client: 🧪 View experiment at: http://127.0.0.1:5000/#/experiments/1.\n"
     ]
    }
   ],
   "source": [
    "import mlflow\n",
    "import mlflow.sklearn\n",
    "\n",
    "\n",
    "mlflow.set_tracking_uri(\"http://127.0.0.1:5000\")\n",
    "\n",
    "mlflow.set_experiment(\"fraud_detection\")\n",
    "\n",
    "with mlflow.start_run():\n",
    "    \n",
    "    model = RandomForestClassifier(n_estimators=100, max_depth=None)\n",
    "    model.fit(X_fraud_train, y_fraud_train)\n",
    "\n",
    "    \n",
    "    mlflow.sklearn.log_model(model, \"random_forest_model\")\n",
    "\n",
    "    \n",
    "    y_pred_fraud = model.predict(X_fraud_test)\n",
    "    accuracy = accuracy_score(y_fraud_test, y_pred_fraud)\n",
    "    \n",
    "    \n",
    "    mlflow.log_metric(\"accuracy\", accuracy)\n",
    "    mlflow.log_param(\"n_estimators\", 100)\n",
    "    mlflow.log_param(\"max_depth\", None)\n"
   ]
>>>>>>> a7d0b93 (after a break)
  }
 ],
 "metadata": {
  "kernelspec": {
   "display_name": ".venv",
   "language": "python",
   "name": "python3"
  },
  "language_info": {
   "codemirror_mode": {
    "name": "ipython",
    "version": 3
   },
   "file_extension": ".py",
   "mimetype": "text/x-python",
   "name": "python",
   "nbconvert_exporter": "python",
   "pygments_lexer": "ipython3",
   "version": "3.12.3"
  }
 },
 "nbformat": 4,
 "nbformat_minor": 2
}
